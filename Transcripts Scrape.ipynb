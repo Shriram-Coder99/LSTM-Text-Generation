{
 "cells": [
  {
   "cell_type": "code",
   "execution_count": 1,
   "metadata": {},
   "outputs": [],
   "source": [
    "import pandas as pd\n",
    "import requests\n",
    "from bs4 import BeautifulSoup"
   ]
  },
  {
   "cell_type": "code",
   "execution_count": 28,
   "metadata": {},
   "outputs": [],
   "source": [
    "links = pd.read_csv(\"Links.csv\")"
   ]
  },
  {
   "cell_type": "code",
   "execution_count": 29,
   "metadata": {},
   "outputs": [
    {
     "data": {
      "text/html": [
       "<div>\n",
       "<style scoped>\n",
       "    .dataframe tbody tr th:only-of-type {\n",
       "        vertical-align: middle;\n",
       "    }\n",
       "\n",
       "    .dataframe tbody tr th {\n",
       "        vertical-align: top;\n",
       "    }\n",
       "\n",
       "    .dataframe thead th {\n",
       "        text-align: right;\n",
       "    }\n",
       "</style>\n",
       "<table border=\"1\" class=\"dataframe\">\n",
       "  <thead>\n",
       "    <tr style=\"text-align: right;\">\n",
       "      <th></th>\n",
       "      <th>Episode Name</th>\n",
       "      <th>Link</th>\n",
       "    </tr>\n",
       "  </thead>\n",
       "  <tbody>\n",
       "    <tr>\n",
       "      <th>0</th>\n",
       "      <td>Pilot</td>\n",
       "      <td>http://community.livejournal.com/clinic_duty/3...</td>\n",
       "    </tr>\n",
       "    <tr>\n",
       "      <th>1</th>\n",
       "      <td>Paternity</td>\n",
       "      <td>http://community.livejournal.com/clinic_duty/6...</td>\n",
       "    </tr>\n",
       "    <tr>\n",
       "      <th>2</th>\n",
       "      <td>Occam's Razor</td>\n",
       "      <td>http://community.livejournal.com/clinic_duty/1...</td>\n",
       "    </tr>\n",
       "    <tr>\n",
       "      <th>3</th>\n",
       "      <td>Maternity</td>\n",
       "      <td>http://community.livejournal.com/clinic_duty/1...</td>\n",
       "    </tr>\n",
       "    <tr>\n",
       "      <th>4</th>\n",
       "      <td>Damned If You Do</td>\n",
       "      <td>http://community.livejournal.com/clinic_duty/1...</td>\n",
       "    </tr>\n",
       "  </tbody>\n",
       "</table>\n",
       "</div>"
      ],
      "text/plain": [
       "       Episode Name                                               Link\n",
       "0             Pilot  http://community.livejournal.com/clinic_duty/3...\n",
       "1         Paternity  http://community.livejournal.com/clinic_duty/6...\n",
       "2     Occam's Razor  http://community.livejournal.com/clinic_duty/1...\n",
       "3         Maternity  http://community.livejournal.com/clinic_duty/1...\n",
       "4  Damned If You Do  http://community.livejournal.com/clinic_duty/1..."
      ]
     },
     "execution_count": 29,
     "metadata": {},
     "output_type": "execute_result"
    }
   ],
   "source": [
    "links.head()"
   ]
  },
  {
   "cell_type": "code",
   "execution_count": 30,
   "metadata": {},
   "outputs": [],
   "source": [
    "names_list = links.iloc[:,0].values\n",
    "links_list = links.iloc[:,1].values"
   ]
  },
  {
   "cell_type": "code",
   "execution_count": 31,
   "metadata": {},
   "outputs": [],
   "source": [
    "for i in range(len(names_list)):\n",
    "    url = links_list[i]\n",
    "    page = requests.get(url,timeout = 5)\n",
    "    soup = BeautifulSoup(page.content, 'html.parser')\n",
    "    text = soup.find('div', { \"class\" : \"entryText s2-entrytext\"})\n",
    "    text = str(text)\n",
    "    text = text.replace('<br/>','\\n')\n",
    "    file = open(\"scripts/\"+names_list[i]+\".txt\",'w',encoding = 'utf8')\n",
    "    file.write(text[text.index('DISCLAIMER')+1:][284:])\n",
    "    file.close()    "
   ]
  }
 ],
 "metadata": {
  "kernelspec": {
   "display_name": "Python 3",
   "language": "python",
   "name": "python3"
  },
  "language_info": {
   "codemirror_mode": {
    "name": "ipython",
    "version": 3
   },
   "file_extension": ".py",
   "mimetype": "text/x-python",
   "name": "python",
   "nbconvert_exporter": "python",
   "pygments_lexer": "ipython3",
   "version": "3.7.7"
  }
 },
 "nbformat": 4,
 "nbformat_minor": 4
}
